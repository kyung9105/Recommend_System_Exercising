{
 "cells": [
  {
   "cell_type": "code",
   "execution_count": 1,
   "metadata": {},
   "outputs": [
    {
     "name": "stderr",
     "output_type": "stream",
     "text": [
      "C:\\Users\\moon\\Anaconda3\\lib\\site-packages\\gensim\\utils.py:860: UserWarning: detected Windows; aliasing chunkize to chunkize_serial\n",
      "  warnings.warn(\"detected Windows; aliasing chunkize to chunkize_serial\")\n"
     ]
    }
   ],
   "source": [
    "import logging\n",
    "from gensim.models import Word2Vec\n",
    "import pandas as pd\n",
    "import numpy as np\n",
    "import matplotlib.pyplot as plt\n",
    "from mpl_toolkits.mplot3d import Axes3D\n",
    "\n",
    "%matplotlib inline"
   ]
  },
  {
   "cell_type": "code",
   "execution_count": 11,
   "metadata": {},
   "outputs": [],
   "source": [
    "from tqdm import tqdm"
   ]
  },
  {
   "cell_type": "code",
   "execution_count": 3,
   "metadata": {},
   "outputs": [
    {
     "data": {
      "text/plain": [
       "'2.1.0'"
      ]
     },
     "execution_count": 3,
     "metadata": {},
     "output_type": "execute_result"
    }
   ],
   "source": [
    "import gensim\n",
    "gensim.__version__"
   ]
  },
  {
   "cell_type": "code",
   "execution_count": 4,
   "metadata": {},
   "outputs": [
    {
     "data": {
      "text/plain": [
       "'C:\\\\Users\\\\moon\\\\Google 드라이브\\\\경배끄10\\\\한이음2(추천시스템)\\\\Week4'"
      ]
     },
     "execution_count": 4,
     "metadata": {},
     "output_type": "execute_result"
    }
   ],
   "source": [
    "import os \n",
    "os.getcwd()"
   ]
  },
  {
   "cell_type": "code",
   "execution_count": 5,
   "metadata": {
    "collapsed": true
   },
   "outputs": [],
   "source": [
    "os.chdir('C:\\\\Users\\\\Moon\\\\Google 드라이브\\\\경배끄10\\\\한이음2(추천시스템)\\\\fc-recsys-lecture-master\\\\fc-recsys-lecture-master\\\\week4\\\\resource\\\\mr.150813')"
   ]
  },
  {
   "cell_type": "code",
   "execution_count": 6,
   "metadata": {},
   "outputs": [
    {
     "name": "stdout",
     "output_type": "stream",
     "text": [
      " C 드라이브의 볼륨에는 이름이 없습니다.\n",
      " 볼륨 일련 번호: ECD2-C70F\n",
      "\n",
      " C:\\Users\\Moon\\Google 드라이브\\경배끄10\\한이음2(추천시스템)\\fc-recsys-lecture-master\\fc-recsys-lecture-master\\week4\\resource\\mr.150813 디렉터리\n",
      "\n",
      "2017-06-09  오후 08:14    <DIR>          .\n",
      "2017-06-09  오후 08:14    <DIR>          ..\n",
      "2015-10-25  오후 01:08       120,409,230 mr.150813\n",
      "               1개 파일         120,409,230 바이트\n",
      "               2개 디렉터리  113,484,324,864 바이트 남음\n"
     ]
    }
   ],
   "source": [
    "!dir"
   ]
  },
  {
   "cell_type": "code",
   "execution_count": 7,
   "metadata": {},
   "outputs": [
    {
     "name": "stderr",
     "output_type": "stream",
     "text": [
      "C:\\Users\\moon\\Anaconda3\\lib\\site-packages\\IPython\\core\\interactiveshell.py:2717: DtypeWarning: Columns (3,5) have mixed types. Specify dtype option on import or set low_memory=False.\n",
      "  interactivity=interactivity, compiler=compiler, result=result)\n"
     ]
    }
   ],
   "source": [
    "review_file = 'mr.150813'\n",
    "review_ds = pd.read_csv(review_file, sep='\\t', index_col=None, header=None, names=['idx','title','review','rating','source','timestamp'])"
   ]
  },
  {
   "cell_type": "code",
   "execution_count": 8,
   "metadata": {},
   "outputs": [
    {
     "name": "stdout",
     "output_type": "stream",
     "text": [
      "(697517, 6)\n"
     ]
    },
    {
     "data": {
      "text/html": [
       "<div>\n",
       "<table border=\"1\" class=\"dataframe\">\n",
       "  <thead>\n",
       "    <tr style=\"text-align: right;\">\n",
       "      <th></th>\n",
       "      <th>idx</th>\n",
       "      <th>title</th>\n",
       "      <th>review</th>\n",
       "      <th>rating</th>\n",
       "      <th>source</th>\n",
       "      <th>timestamp</th>\n",
       "    </tr>\n",
       "  </thead>\n",
       "  <tbody>\n",
       "    <tr>\n",
       "      <th>0</th>\n",
       "      <td>1</td>\n",
       "      <td>10억</td>\n",
       "      <td>몇년동안 본거중에 가장 최악이다 한국영화여서 챙피하다...</td>\n",
       "      <td>1</td>\n",
       "      <td>Naver movie</td>\n",
       "      <td>1437446025</td>\n",
       "    </tr>\n",
       "    <tr>\n",
       "      <th>1</th>\n",
       "      <td>2</td>\n",
       "      <td>10억</td>\n",
       "      <td>와. .진심 그 피디 죽일수있었는데 못죽이고ㅡㅡ해튼 주연이라는 신민아 연기는 아주 ...</td>\n",
       "      <td>1</td>\n",
       "      <td>Naver movie</td>\n",
       "      <td>1437446025</td>\n",
       "    </tr>\n",
       "    <tr>\n",
       "      <th>2</th>\n",
       "      <td>3</td>\n",
       "      <td>12 몽키즈</td>\n",
       "      <td>킬링타임 용도로도 써먹지 못할 수준</td>\n",
       "      <td>1</td>\n",
       "      <td>Naver movie</td>\n",
       "      <td>1437446025</td>\n",
       "    </tr>\n",
       "  </tbody>\n",
       "</table>\n",
       "</div>"
      ],
      "text/plain": [
       "   idx   title                                             review rating  \\\n",
       "0    1     10억                   몇년동안 본거중에 가장 최악이다 한국영화여서 챙피하다...      1   \n",
       "1    2     10억  와. .진심 그 피디 죽일수있었는데 못죽이고ㅡㅡ해튼 주연이라는 신민아 연기는 아주 ...      1   \n",
       "2    3  12 몽키즈                                킬링타임 용도로도 써먹지 못할 수준      1   \n",
       "\n",
       "        source   timestamp  \n",
       "0  Naver movie  1437446025  \n",
       "1  Naver movie  1437446025  \n",
       "2  Naver movie  1437446025  "
      ]
     },
     "execution_count": 8,
     "metadata": {},
     "output_type": "execute_result"
    }
   ],
   "source": [
    "print(review_ds.shape)\n",
    "review_ds.head(3)"
   ]
  },
  {
   "cell_type": "code",
   "execution_count": 9,
   "metadata": {},
   "outputs": [
    {
     "name": "stdout",
     "output_type": "stream",
     "text": [
      "(697517, 6)\n"
     ]
    },
    {
     "data": {
      "text/html": [
       "<div>\n",
       "<table border=\"1\" class=\"dataframe\">\n",
       "  <thead>\n",
       "    <tr style=\"text-align: right;\">\n",
       "      <th></th>\n",
       "      <th>idx</th>\n",
       "      <th>title</th>\n",
       "      <th>review</th>\n",
       "      <th>rating</th>\n",
       "      <th>source</th>\n",
       "      <th>timestamp</th>\n",
       "    </tr>\n",
       "  </thead>\n",
       "  <tbody>\n",
       "    <tr>\n",
       "      <th>0</th>\n",
       "      <td>1</td>\n",
       "      <td>10억</td>\n",
       "      <td>몇년동안 본거중에 가장 최악이다 한국영화여서 챙피하다...</td>\n",
       "      <td>1</td>\n",
       "      <td>Naver movie</td>\n",
       "      <td>2016-03-16 10:38:00</td>\n",
       "    </tr>\n",
       "    <tr>\n",
       "      <th>1</th>\n",
       "      <td>2</td>\n",
       "      <td>10억</td>\n",
       "      <td>와. .진심 그 피디 죽일수있었는데 못죽이고ㅡㅡ해튼 주연이라는 신민아 연기는 아주 ...</td>\n",
       "      <td>1</td>\n",
       "      <td>Naver movie</td>\n",
       "      <td>2016-03-16 10:38:00</td>\n",
       "    </tr>\n",
       "    <tr>\n",
       "      <th>2</th>\n",
       "      <td>3</td>\n",
       "      <td>12 몽키즈</td>\n",
       "      <td>킬링타임 용도로도 써먹지 못할 수준</td>\n",
       "      <td>1</td>\n",
       "      <td>Naver movie</td>\n",
       "      <td>2016-03-16 10:38:00</td>\n",
       "    </tr>\n",
       "  </tbody>\n",
       "</table>\n",
       "</div>"
      ],
      "text/plain": [
       "   idx   title                                             review rating  \\\n",
       "0    1     10억                   몇년동안 본거중에 가장 최악이다 한국영화여서 챙피하다...      1   \n",
       "1    2     10억  와. .진심 그 피디 죽일수있었는데 못죽이고ㅡㅡ해튼 주연이라는 신민아 연기는 아주 ...      1   \n",
       "2    3  12 몽키즈                                킬링타임 용도로도 써먹지 못할 수준      1   \n",
       "\n",
       "        source           timestamp  \n",
       "0  Naver movie 2016-03-16 10:38:00  \n",
       "1  Naver movie 2016-03-16 10:38:00  \n",
       "2  Naver movie 2016-03-16 10:38:00  "
      ]
     },
     "execution_count": 9,
     "metadata": {},
     "output_type": "execute_result"
    }
   ],
   "source": [
    "from datetime import datetime\n",
    "\n",
    "review_ds['timestamp'] = datetime.strptime('3/16/2016 10:38', '%m/%d/%Y %H:%M')\n",
    "print(review_ds.shape)\n",
    "review_ds.head(3)"
   ]
  },
  {
   "cell_type": "markdown",
   "metadata": {},
   "source": [
    "## 영화 리뷰 데이터셋 트레이닝"
   ]
  },
  {
   "cell_type": "code",
   "execution_count": 12,
   "metadata": {},
   "outputs": [
    {
     "name": "stderr",
     "output_type": "stream",
     "text": [
      "697435it [01:07, 10342.20it/s]\n"
     ]
    }
   ],
   "source": [
    "# Nan value drop\n",
    "review_ds = review_ds.dropna()\n",
    "\n",
    "# corpus generation\n",
    "sentences = []\n",
    "for idx, row in tqdm(review_ds.iterrows()):\n",
    "    words = str(row['review']).split()\n",
    "    sentences.append(words)"
   ]
  },
  {
   "cell_type": "code",
   "execution_count": 14,
   "metadata": {},
   "outputs": [
    {
     "data": {
      "text/plain": [
       "[['몇년동안', '본거중에', '가장', '최악이다', '한국영화여서', '챙피하다...'],\n",
       " ['와.',\n",
       "  '.진심',\n",
       "  '그',\n",
       "  '피디',\n",
       "  '죽일수있었는데',\n",
       "  '못죽이고ㅡㅡ해튼',\n",
       "  '주연이라는',\n",
       "  '신민아',\n",
       "  '연기는',\n",
       "  '아주',\n",
       "  '발연기!!',\n",
       "  '.',\n",
       "  '.',\n",
       "  '신민아',\n",
       "  '와',\n",
       "  '대박이다',\n",
       "  '심하게',\n",
       "  '못한다'],\n",
       " ['킬링타임', '용도로도', '써먹지', '못할', '수준'],\n",
       " ['영화는',\n",
       "  '좋다만..',\n",
       "  '실제',\n",
       "  '주인공',\n",
       "  '정신못차렸어..',\n",
       "  '아내',\n",
       "  '폭행죄로',\n",
       "  '교도소행..',\n",
       "  '감동이',\n",
       "  '싹다',\n",
       "  '사라졌다..']]"
      ]
     },
     "execution_count": 14,
     "metadata": {},
     "output_type": "execute_result"
    }
   ],
   "source": [
    "sentences[:4]"
   ]
  },
  {
   "cell_type": "code",
   "execution_count": 15,
   "metadata": {
    "collapsed": true
   },
   "outputs": [],
   "source": [
    "def myhashfxn(obj):\n",
    "    return hash(obj)%(2**32)"
   ]
  },
  {
   "cell_type": "code",
   "execution_count": 19,
   "metadata": {},
   "outputs": [],
   "source": [
    "model = Word2Vec(sentences, min_count =5, window=5, size=100, hashfxn=myhashfxn)"
   ]
  },
  {
   "cell_type": "code",
   "execution_count": 20,
   "metadata": {},
   "outputs": [
    {
     "data": {
      "text/plain": [
       "'C:\\\\Users\\\\Moon\\\\Google 드라이브\\\\경배끄10\\\\한이음2(추천시스템)\\\\fc-recsys-lecture-master\\\\fc-recsys-lecture-master\\\\week4\\\\resource\\\\mr.150813'"
      ]
     },
     "execution_count": 20,
     "metadata": {},
     "output_type": "execute_result"
    }
   ],
   "source": [
    "os.getcwd()"
   ]
  },
  {
   "cell_type": "code",
   "execution_count": 29,
   "metadata": {},
   "outputs": [],
   "source": [
    "model.save('C:\\\\Users\\\\Moon\\\\Google 드라이브\\\\경배끄10\\\\한이음2(추천시스템)\\\\Week4\\\\movie_review.model')"
   ]
  },
  {
   "cell_type": "code",
   "execution_count": 30,
   "metadata": {},
   "outputs": [
    {
     "data": {
      "text/plain": [
       "array([-0.22844557,  0.76812816, -0.35898805], dtype=float32)"
      ]
     },
     "execution_count": 30,
     "metadata": {},
     "output_type": "execute_result"
    }
   ],
   "source": [
    "model['이정재'][:3]"
   ]
  },
  {
   "cell_type": "code",
   "execution_count": 31,
   "metadata": {},
   "outputs": [
    {
     "data": {
      "text/plain": [
       "[('조진웅', 0.952551007270813),\n",
       " ('전지현', 0.9445124268531799),\n",
       " ('하정우', 0.9328281879425049)]"
      ]
     },
     "execution_count": 31,
     "metadata": {},
     "output_type": "execute_result"
    }
   ],
   "source": [
    "## 인물 단어에 대한 유사도 \n",
    "model.most_similar(positive=['이정재'], topn=3)"
   ]
  },
  {
   "cell_type": "code",
   "execution_count": 32,
   "metadata": {},
   "outputs": [
    {
     "data": {
      "text/plain": [
       "[('명량', 0.899853527545929),\n",
       " ('군도', 0.8969316482543945),\n",
       " ('겨울왕국', 0.8670167326927185)]"
      ]
     },
     "execution_count": 32,
     "metadata": {},
     "output_type": "execute_result"
    }
   ],
   "source": [
    "## 영화 단어에 대한 유사도\n",
    "model.most_similar(positive=['암살'], topn=3)"
   ]
  },
  {
   "cell_type": "code",
   "execution_count": 33,
   "metadata": {},
   "outputs": [
    {
     "data": {
      "text/plain": [
       "[('정재영,', 0.8134846687316895),\n",
       " ('김고은과', 0.8083153963088989),\n",
       " ('뿜어내는', 0.79880291223526)]"
      ]
     },
     "execution_count": 33,
     "metadata": {},
     "output_type": "execute_result"
    }
   ],
   "source": [
    "model.most_similar(positive=['이정재','관상'],negative=['암살'], topn=3)"
   ]
  },
  {
   "cell_type": "code",
   "execution_count": 35,
   "metadata": {},
   "outputs": [
    {
     "data": {
      "text/plain": [
       "'백윤식'"
      ]
     },
     "execution_count": 35,
     "metadata": {},
     "output_type": "execute_result"
    }
   ],
   "source": [
    "model.doesnt_match('이정재 하정우 전지현 백윤식'.split())"
   ]
  },
  {
   "cell_type": "markdown",
   "metadata": {},
   "source": [
    "## 단어 클러스터링 하기\n",
    "$$k = sqrt(N/2)`s 올림 $$\n",
    "* N = index의 길이"
   ]
  },
  {
   "cell_type": "code",
   "execution_count": 37,
   "metadata": {},
   "outputs": [
    {
     "name": "stdout",
     "output_type": "stream",
     "text": [
      "cluster k의 수 239\n"
     ]
    }
   ],
   "source": [
    "import math\n",
    "\n",
    "k = math.ceil(math.sqrt(len(model.wv.index2word)/2))\n",
    "print('cluster k의 수 {0}'.format(k))"
   ]
  },
  {
   "cell_type": "code",
   "execution_count": 42,
   "metadata": {},
   "outputs": [
    {
     "name": "stdout",
     "output_type": "stream",
     "text": [
      "(113374, 100)\n"
     ]
    }
   ],
   "source": [
    "vec = model.wv.syn0\n",
    "index2word = model.wv.index2word\n",
    "# index2word 는 리뷰에 대한 모든 words의 집합\n",
    "# vec은 각 단어들에 대한 vector 값을 array로 만든것\n",
    "print(vec.shape)"
   ]
  },
  {
   "cell_type": "code",
   "execution_count": 58,
   "metadata": {},
   "outputs": [
    {
     "name": "stdout",
     "output_type": "stream",
     "text": [
      "Wall time: 31min 20s\n"
     ]
    },
    {
     "data": {
      "text/plain": [
       "KMeans(copy_x=True, init='k-means++', max_iter=300, n_clusters=239, n_init=10,\n",
       "    n_jobs=1, precompute_distances='auto', random_state=None, tol=0.0001,\n",
       "    verbose=0)"
      ]
     },
     "execution_count": 58,
     "metadata": {},
     "output_type": "execute_result"
    }
   ],
   "source": [
    "from sklearn.cluster import KMeans\n",
    "\n",
    "cluster_model = KMeans(n_clusters=k)\n",
    "%time cluster_model.fit(vec)"
   ]
  }
 ],
 "metadata": {
  "anaconda-cloud": {},
  "kernelspec": {
   "display_name": "Python 3",
   "language": "python",
   "name": "python3"
  },
  "language_info": {
   "codemirror_mode": {
    "name": "ipython",
    "version": 3
   },
   "file_extension": ".py",
   "mimetype": "text/x-python",
   "name": "python",
   "nbconvert_exporter": "python",
   "pygments_lexer": "ipython3",
   "version": "3.6.1"
  }
 },
 "nbformat": 4,
 "nbformat_minor": 2
}
