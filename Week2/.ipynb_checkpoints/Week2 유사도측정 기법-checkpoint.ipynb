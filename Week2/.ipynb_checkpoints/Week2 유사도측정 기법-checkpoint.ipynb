{
 "cells": [
  {
   "cell_type": "markdown",
   "metadata": {},
   "source": [
    "## facial point 정보를 수집하여 csv로 저장"
   ]
  },
  {
   "cell_type": "markdown",
   "metadata": {},
   "source": [
    "   image-url로 부터 facial point 수집하는 api"
   ]
  },
  {
   "cell_type": "code",
   "execution_count": 3,
   "metadata": {
    "collapsed": true
   },
   "outputs": [],
   "source": [
    "import urllib.parse\n",
    "import urllib.request\n",
    "import json"
   ]
  },
  {
   "cell_type": "code",
   "execution_count": 4,
   "metadata": {
    "collapsed": true
   },
   "outputs": [],
   "source": [
    "def face_detect(imgurl):\n",
    "    url = 'http://apius.faceplusplus.com/v2/detection/detect'\n",
    "    headers = { 'User-Agent' : 'Mozilla/5.0 (Macintosh; Intel Mac OS X 10_9_5) AppleWebKit/537.36 (KHTML, like Gecko) Chrome/45.0.2454.101 Safari/537.36',\n",
    "               'Origin':'http://www.faceplusplus.com', \n",
    "               'Accept-Language':'ko-KR,ko;q=0.8,en-US;q=0.6,en;q=0.4', \n",
    "               'Content-type':'application/x-www-form-urlencoded', \n",
    "               'Accept':'*/*', \n",
    "               'Referer':'http://www.faceplusplus.com/demo-landmark/', \n",
    "               'Connection':'keep-alive'\n",
    "              }\n",
    "    values = {'attribute' : 'none',\n",
    "              'url' : imgurl,\n",
    "              'api_key' : 'e6f2c06ac2b93b1ae6aad80b90d49eb0',\n",
    "              'api_secret' : '8o_amgigF4dV4EHZ2OOVEejDeXq4qFab'}\n",
    "\n",
    "    data = urllib.parse.urlencode(values)\n",
    "    data = data.encode(u'utf-8')\n",
    "    req = urllib.request.Request(url, data, headers)\n",
    "    response = urllib.request.urlopen(req)\n",
    "    response_data = response.read()\n",
    "    response.close()\n",
    "    return json.loads(response_data.decode('utf-8'))"
   ]
  },
  {
   "cell_type": "code",
   "execution_count": 5,
   "metadata": {},
   "outputs": [
    {
     "data": {
      "text/plain": [
       "{'face': [{'attribute': {},\n",
       "   'face_id': '5d7c479a86c9574140a68611c355883b',\n",
       "   'position': {'center': {'x': 55.333333, 'y': 49.666667},\n",
       "    'eye_left': {'x': 46.110667, 'y': 44.993167},\n",
       "    'eye_right': {'x': 65.831167, 'y': 44.172167},\n",
       "    'height': 37.333333,\n",
       "    'mouth_left': {'x': 48.731, 'y': 63.6615},\n",
       "    'mouth_right': {'x': 62.537333, 'y': 64.621667},\n",
       "    'nose': {'x': 56.371, 'y': 55.279},\n",
       "    'width': 37.333333},\n",
       "   'tag': ''}],\n",
       " 'img_height': 960,\n",
       " 'img_id': '6d815111817d6d5b1843060c93b4585b',\n",
       " 'img_width': 960,\n",
       " 'session_id': '8f786deed5e04d01bb6219831c200b3f',\n",
       " 'url': 'https://scontent-hkg3-1.xx.fbcdn.net/v/t1.0-9/11220850_473169659474726_7366027652356705505_n.jpg?oh=eb0bd1035beba418b7a56684a4ac51f7&oe=595B7852'}"
      ]
     },
     "execution_count": 5,
     "metadata": {},
     "output_type": "execute_result"
    }
   ],
   "source": [
    "face_detect('https://scontent-hkg3-1.xx.fbcdn.net/v/t1.0-9/11220850_473169659474726_7366027652356705505_n.jpg?oh=eb0bd1035beba418b7a56684a4ac51f7&oe=595B7852')"
   ]
  },
  {
   "cell_type": "code",
   "execution_count": 6,
   "metadata": {
    "collapsed": true
   },
   "outputs": [],
   "source": [
    "\n",
    "def face_landmark(faceid):\n",
    "    url = 'http://apius.faceplusplus.com/v2/detection/landmark'\n",
    "    headers = { 'User-Agent' : 'Mozilla/5.0 (Macintosh; Intel Mac OS X 10_9_5) AppleWebKit/537.36 (KHTML, like Gecko) Chrome/45.0.2454.101 Safari/537.36',\n",
    "               'Origin':'http://www.faceplusplus.com', \n",
    "               'Accept-Language':'ko-KR,ko;q=0.8,en-US;q=0.6,en;q=0.4', \n",
    "               'Content-type':'application/x-www-form-urlencoded', \n",
    "               'Accept':'*/*', \n",
    "               'Referer':'http://www.faceplusplus.com/demo-landmark/', \n",
    "               'Connection':'keep-alive'\n",
    "              }\n",
    "    values = {'face_id' : faceid,\n",
    "              'type' : '83p',\n",
    "              'api_key' : 'e6f2c06ac2b93b1ae6aad80b90d49eb0',\n",
    "              'api_secret' : '8o_amgigF4dV4EHZ2OOVEejDeXq4qFab'}\n",
    "    data = urllib.parse.urlencode(values)\n",
    "    data = data.encode(u'utf-8')\n",
    "\n",
    "    req = urllib.request.Request(url, data, headers)\n",
    "\n",
    "    response = urllib.request.urlopen(req)\n",
    "    response_data = response.read()\n",
    "    response.close()\n",
    "    return json.loads(response_data.decode('utf-8'))"
   ]
  },
  {
   "cell_type": "markdown",
   "metadata": {},
   "source": [
    "## 크흠... 어렵다..   \n",
    "   **1.face_detect함수**는 api 키를 이용해서 원하는 url을 (faceplus)홈페이지에 \"정보\"를 요청하고 이를 json으로 저장해준다. 이때, json으로 저장되는 값들은 그 사진의 \"간략한 정보\"들이다.  \n",
    "   **2.face_landmark함수**는 face_detect() 에서 구한 사진의 url에 담겨있는 __faceid__ 라는 값을 통해 \"JSON\"파일로 가져온다. 이때, faceid(dictionary key)에 담겨있는 값들은 \"자세한 정보\"들이다.   \n",
    "   **3. json 과 API key 사용법, urllib 활용법은 책을 빌려 더 자세히 공부해보자...**"
   ]
  },
  {
   "cell_type": "code",
   "execution_count": 7,
   "metadata": {
    "collapsed": true
   },
   "outputs": [],
   "source": [
    "def  extract_face_landmark( imgurl, face_index=0 ) :\n",
    "    fd = face_detect(imgurl)\n",
    "    face_id = fd['face'][face_index]['face_id']\n",
    "    return face_landmark(face_id)"
   ]
  },
  {
   "cell_type": "code",
   "execution_count": null,
   "metadata": {
    "scrolled": true
   },
   "outputs": [],
   "source": [
    "extract_face_landmark('https://scontent-hkg3-1.xx.fbcdn.net/v/t1.0-9/11220850_473169659474726_7366027652356705505_n.jpg?oh=eb0bd1035beba418b7a56684a4ac51f7&oe=595B7852' )"
   ]
  },
  {
   "cell_type": "markdown",
   "metadata": {},
   "source": [
    "### 최종적으로 추출된 사진의 각 위치에 담긴 \"벡터화\" 값들."
   ]
  },
  {
   "cell_type": "code",
   "execution_count": 11,
   "metadata": {},
   "outputs": [
    {
     "data": {
      "text/plain": [
       "{'contour_chin_x': 18.966,\n",
       " 'contour_chin_y': 31.579500000000003,\n",
       " 'contour_left1_x': 0.0,\n",
       " 'contour_left1_y': 0.0,\n",
       " 'contour_left2_x': 0.23416699999999935,\n",
       " 'contour_left2_y': 4.728499999999997,\n",
       " 'contour_left3_x': 1.331000000000003,\n",
       " 'contour_left3_y': 8.807000000000002,\n",
       " 'contour_left4_x': 2.013667000000005,\n",
       " 'contour_left4_y': 13.265833999999998,\n",
       " 'contour_left5_x': 3.2613330000000005,\n",
       " 'contour_left5_y': 17.186999999999998,\n",
       " 'contour_left6_x': 4.920166999999999,\n",
       " 'contour_left6_y': 21.104834000000004,\n",
       " 'contour_left7_x': 7.375167000000005,\n",
       " 'contour_left7_y': 24.981333999999997,\n",
       " 'contour_left8_x': 10.160000000000004,\n",
       " 'contour_left8_y': 28.202166999999996,\n",
       " 'contour_left9_x': 14.041667000000004,\n",
       " 'contour_left9_y': 30.843667000000003,\n",
       " 'contour_right1_x': 39.07683300000001,\n",
       " 'contour_right1_y': -1.3625000000000043,\n",
       " 'contour_right2_x': 37.75066700000001,\n",
       " 'contour_right2_y': 3.378999999999998,\n",
       " 'contour_right3_x': 37.147999999999996,\n",
       " 'contour_right3_y': 8.162500000000001,\n",
       " 'contour_right4_x': 36.30416700000001,\n",
       " 'contour_right4_y': 12.682000000000002,\n",
       " 'contour_right5_x': 35.0565,\n",
       " 'contour_right5_y': 17.240333999999997,\n",
       " 'contour_right6_x': 33.048500000000004,\n",
       " 'contour_right6_y': 21.640834000000005,\n",
       " 'contour_right7_x': 30.718167000000008,\n",
       " 'contour_right7_y': 25.339834000000003,\n",
       " 'contour_right8_x': 27.504167000000002,\n",
       " 'contour_right8_y': 28.286334000000004,\n",
       " 'contour_right9_x': 23.840833000000003,\n",
       " 'contour_right9_y': 30.960333999999996,\n",
       " 'left_eye_bottom_x': 10.490833000000002,\n",
       " 'left_eye_bottom_y': 0.3429999999999964,\n",
       " 'left_eye_center_x': 10.3675,\n",
       " 'left_eye_center_y': -0.6526660000000035,\n",
       " 'left_eye_left_corner_x': 6.5041670000000025,\n",
       " 'left_eye_left_corner_y': -0.49833300000000236,\n",
       " 'left_eye_lower_left_quarter_x': 8.307000000000002,\n",
       " 'left_eye_lower_left_quarter_y': 0.014499999999998181,\n",
       " 'left_eye_lower_right_quarter_x': 12.414667000000001,\n",
       " 'left_eye_lower_right_quarter_y': -0.013333000000002926,\n",
       " 'left_eye_pupil_x': 10.684000000000005,\n",
       " 'left_eye_pupil_y': -0.8153330000000025,\n",
       " 'left_eye_right_corner_x': 14.607167000000004,\n",
       " 'left_eye_right_corner_y': -0.3436659999999989,\n",
       " 'left_eye_top_x': 10.354667,\n",
       " 'left_eye_top_y': -1.4698330000000013,\n",
       " 'left_eye_upper_left_quarter_x': 8.329500000000003,\n",
       " 'left_eye_upper_left_quarter_y': -1.2823330000000013,\n",
       " 'left_eye_upper_right_quarter_x': 12.308,\n",
       " 'left_eye_upper_right_quarter_y': -1.5076660000000004,\n",
       " 'left_eyebrow_left_corner_x': 3.297333000000002,\n",
       " 'left_eyebrow_left_corner_y': -5.389166000000003,\n",
       " 'left_eyebrow_lower_left_quarter_x': 6.214667000000006,\n",
       " 'left_eyebrow_lower_left_quarter_y': -5.5638330000000025,\n",
       " 'left_eyebrow_lower_middle_x': 9.408500000000004,\n",
       " 'left_eyebrow_lower_middle_y': -5.971000000000004,\n",
       " 'left_eyebrow_lower_right_quarter_x': 12.413833000000004,\n",
       " 'left_eyebrow_lower_right_quarter_y': -6.081000000000003,\n",
       " 'left_eyebrow_right_corner_x': 15.471000000000004,\n",
       " 'left_eyebrow_right_corner_y': -6.413665999999999,\n",
       " 'left_eyebrow_upper_left_quarter_x': 5.471167000000001,\n",
       " 'left_eyebrow_upper_left_quarter_y': -7.919665999999999,\n",
       " 'left_eyebrow_upper_middle_x': 9.025000000000006,\n",
       " 'left_eyebrow_upper_middle_y': -8.712665999999999,\n",
       " 'left_eyebrow_upper_right_quarter_x': 12.192833,\n",
       " 'left_eyebrow_upper_right_quarter_y': -8.499500000000005,\n",
       " 'mouth_left_corner_x': 12.049333000000004,\n",
       " 'mouth_left_corner_y': 18.942167000000005,\n",
       " 'mouth_lower_lip_bottom_x': 19.011667000000003,\n",
       " 'mouth_lower_lip_bottom_y': 23.6205,\n",
       " 'mouth_lower_lip_left_contour1_x': 15.760167000000003,\n",
       " 'mouth_lower_lip_left_contour1_y': 20.117333999999992,\n",
       " 'mouth_lower_lip_left_contour2_x': 14.087833000000003,\n",
       " 'mouth_lower_lip_left_contour2_y': 20.976334,\n",
       " 'mouth_lower_lip_left_contour3_x': 15.999500000000005,\n",
       " 'mouth_lower_lip_left_contour3_y': 22.796666999999992,\n",
       " 'mouth_lower_lip_right_contour1_x': 22.655667,\n",
       " 'mouth_lower_lip_right_contour1_y': 20.469666999999994,\n",
       " 'mouth_lower_lip_right_contour2_x': 24.652833,\n",
       " 'mouth_lower_lip_right_contour2_y': 21.446999999999996,\n",
       " 'mouth_lower_lip_right_contour3_x': 22.021667,\n",
       " 'mouth_lower_lip_right_contour3_y': 23.032166999999994,\n",
       " 'mouth_lower_lip_top_x': 19.1815,\n",
       " 'mouth_lower_lip_top_y': 20.920167,\n",
       " 'mouth_right_corner_x': 26.267000000000003,\n",
       " 'mouth_right_corner_y': 19.656333999999994,\n",
       " 'mouth_upper_lip_bottom_x': 19.299833,\n",
       " 'mouth_upper_lip_bottom_y': 19.377666999999995,\n",
       " 'mouth_upper_lip_left_contour1_x': 17.652833,\n",
       " 'mouth_upper_lip_left_contour1_y': 17.522,\n",
       " 'mouth_upper_lip_left_contour2_x': 14.613167000000004,\n",
       " 'mouth_upper_lip_left_contour2_y': 18.315334,\n",
       " 'mouth_upper_lip_left_contour3_x': 15.637500000000003,\n",
       " 'mouth_upper_lip_left_contour3_y': 19.035666999999997,\n",
       " 'mouth_upper_lip_right_contour1_x': 21.020333,\n",
       " 'mouth_upper_lip_right_contour1_y': 17.430166999999997,\n",
       " 'mouth_upper_lip_right_contour2_x': 24.096000000000004,\n",
       " 'mouth_upper_lip_right_contour2_y': 18.284833999999996,\n",
       " 'mouth_upper_lip_right_contour3_x': 22.752500000000005,\n",
       " 'mouth_upper_lip_right_contour3_y': 19.234834,\n",
       " 'mouth_upper_lip_top_x': 19.303000000000004,\n",
       " 'mouth_upper_lip_top_y': 18.045333999999997,\n",
       " 'nose_contour_left1_x': 17.218833000000004,\n",
       " 'nose_contour_left1_y': -0.7098330000000033,\n",
       " 'nose_contour_left2_x': 15.763167000000003,\n",
       " 'nose_contour_left2_y': 8.067,\n",
       " 'nose_contour_left3_x': 16.941333,\n",
       " 'nose_contour_left3_y': 13.171833999999997,\n",
       " 'nose_contour_lower_middle_x': 20.097500000000004,\n",
       " 'nose_contour_lower_middle_y': 13.800334,\n",
       " 'nose_contour_right1_x': 22.896167000000005,\n",
       " 'nose_contour_right1_y': -1.0646660000000026,\n",
       " 'nose_contour_right2_x': 24.453167,\n",
       " 'nose_contour_right2_y': 7.735166999999997,\n",
       " 'nose_contour_right3_x': 23.137,\n",
       " 'nose_contour_right3_y': 13.048000000000002,\n",
       " 'nose_left_x': 14.155833000000001,\n",
       " 'nose_left_y': 11.668500000000002,\n",
       " 'nose_right_x': 26.005500000000005,\n",
       " 'nose_right_y': 11.609333999999997,\n",
       " 'nose_tip_x': 20.064667,\n",
       " 'nose_tip_y': 10.432834,\n",
       " 'right_eye_bottom_x': 29.806832999999997,\n",
       " 'right_eye_bottom_y': -0.28416599999999903,\n",
       " 'right_eye_center_x': 29.831500000000005,\n",
       " 'right_eye_center_y': -1.288499999999999,\n",
       " 'right_eye_left_corner_x': 25.3545,\n",
       " 'right_eye_left_corner_y': -0.7325000000000017,\n",
       " 'right_eye_lower_left_quarter_x': 27.602833000000004,\n",
       " 'right_eye_lower_left_quarter_y': -0.5870000000000033,\n",
       " 'right_eye_lower_right_quarter_x': 32.205833,\n",
       " 'right_eye_lower_right_quarter_y': -0.6713330000000042,\n",
       " 'right_eye_pupil_x': 29.827833,\n",
       " 'right_eye_pupil_y': -1.3879999999999981,\n",
       " 'right_eye_right_corner_x': 33.68083300000001,\n",
       " 'right_eye_right_corner_y': -1.1933330000000026,\n",
       " 'right_eye_top_x': 29.792833,\n",
       " 'right_eye_top_y': -2.2713329999999985,\n",
       " 'right_eye_upper_left_quarter_x': 27.768,\n",
       " 'right_eye_upper_left_quarter_y': -1.9278329999999997,\n",
       " 'right_eye_upper_right_quarter_x': 31.813000000000002,\n",
       " 'right_eye_upper_right_quarter_y': -1.9891660000000044,\n",
       " 'right_eyebrow_left_corner_x': 24.782000000000004,\n",
       " 'right_eyebrow_left_corner_y': -7.1533330000000035,\n",
       " 'right_eyebrow_lower_left_quarter_x': 27.682333,\n",
       " 'right_eyebrow_lower_left_quarter_y': -7.245166000000005,\n",
       " 'right_eyebrow_lower_middle_x': 30.792,\n",
       " 'right_eyebrow_lower_middle_y': -7.582000000000001,\n",
       " 'right_eyebrow_lower_right_quarter_x': 33.920500000000004,\n",
       " 'right_eyebrow_lower_right_quarter_y': -7.5405000000000015,\n",
       " 'right_eyebrow_right_corner_x': 36.550667000000004,\n",
       " 'right_eyebrow_right_corner_y': -6.479500000000002,\n",
       " 'right_eyebrow_upper_left_quarter_x': 27.431167000000002,\n",
       " 'right_eyebrow_upper_left_quarter_y': -9.948166,\n",
       " 'right_eyebrow_upper_middle_x': 30.876333000000002,\n",
       " 'right_eyebrow_upper_middle_y': -10.533332999999999,\n",
       " 'right_eyebrow_upper_right_quarter_x': 34.199167,\n",
       " 'right_eyebrow_upper_right_quarter_y': -9.584665999999999}"
      ]
     },
     "execution_count": 11,
     "metadata": {},
     "output_type": "execute_result"
    }
   ],
   "source": [
    "import json\n",
    "def extract_face_feature_raw(facial_info):\n",
    "    # facial_info == demo 사진 url에서 추출한 자세한 \"vector\"값 집합\n",
    "    keypoint = {}\n",
    "    \n",
    "    ## json string to object\n",
    "    info = facial_info\n",
    "    if type(facial_info) == str:\n",
    "        info = json.loads(facial_info)\n",
    "        # 문자열 데이터만 따로 info 라는 변수에 저장\n",
    "    \n",
    "    facial_pos = info['result'][0]['landmark'] \n",
    "    # info에 result, session_id라는 key가 존재하며 info['result'] 안에는 face landmark value에 대한 정보들이 존재한다.\n",
    "    #  그리고 info['result']안에 2개의 key가 존재한다. (face_id: 사진 고유값 , landmark : 사진 좌표 값들) 이중, \n",
    "    # landmark 에는 여러개의 key가 존재하며, 각각의 key들은 사진의 좌표값들을 가진다.\n",
    "    \n",
    "    dx = facial_pos['contour_left1']['x']\n",
    "    dy = facial_pos['contour_left1']['y']\n",
    "    ## calculate key point : 기준점?? \n",
    "    \n",
    "    for (k,v) in facial_pos.items(): ## \n",
    "        keypoint[k+'_x'] = v['x'] - dx\n",
    "        keypoint[k+'_y'] = v['y'] - dy\n",
    "        \n",
    "    # 모든 좌표들의 값들을 왜 contour_left1 값으로 빼지??\n",
    "    \n",
    "    return keypoint\n",
    "    # 변경한 vector 값 만들만 dict로 저장\n",
    "\n",
    "keypoint = extract_face_landmark('https://scontent-hkg3-1.xx.fbcdn.net/v/t1.0-9/11220850_473169659474726_7366027652356705505_n.jpg?oh=eb0bd1035beba418b7a56684a4ac51f7&oe=595B7852')\n",
    "extract_face_feature_raw(keypoint)"
   ]
  },
  {
   "cell_type": "code",
   "execution_count": 12,
   "metadata": {
    "collapsed": true
   },
   "outputs": [],
   "source": [
    "## 수집할 image url \n",
    "image_data = {  '원빈:1' : 'http://image.fmkorea.com/files/attach/new/20141213/486616/85599953/86802006/da08e25010e6001bf565cd5cca3ca359.jpg'\n",
    "              , '원빈:2' : 'http://cfile25.uf.tistory.com/image/1907CA414F11DCF31C96F2'\n",
    "              , '원빈:3' : 'http://cfile7.uf.tistory.com/image/145E12504DAF7CEE198138'\n",
    "              , '김수현:1' : 'http://cfile10.uf.tistory.com/image/167718454EB74A8C07D3DA'\n",
    "              , '김수현:2' : 'http://image.ytn.co.kr/general/jpg/2013/1218/201312181042081641_h.jpg'\n",
    "             }\n"
   ]
  },
  {
   "cell_type": "code",
   "execution_count": 13,
   "metadata": {
    "collapsed": true
   },
   "outputs": [],
   "source": [
    "import json\n",
    "import numpy as np\n",
    "from scipy.spatial import distance\n",
    "\n",
    "def pos_distance(l,r):\n",
    "#    print(l,r)\n",
    "    return round(distance.euclidean( [l['x'], l['y']], [r['x'], r['y']] ),5)\n",
    "\n",
    "def pos_center(l,r):\n",
    "    return {'x':(l['x']+r['x'])/2, 'y':(l['y']+r['y'])/2}\n",
    "\n",
    "def extract_face_feature(facial_info):\n",
    "    cal_items = {'face_width'    :['contour_left9', 'contour_right9']\n",
    "                 ,'face_height'  :['eyebrow_center','contour_chin']\n",
    "                 ,'mouth_width'  :['mouth_left_corner','mouth_right_corner']  \n",
    "                 ,'nose_width'   :['nose_left','nose_right']  \n",
    "                 ,'eye_width'    :['left_eye_left_corner','right_eye_right_corner']  \n",
    "                 ,'eye_to_eye'   :['left_eye_center','right_eye_center']  \n",
    "                 ,'eyebrow_width':['left_eyebrow_upper_middle','left_eyebrow_lower_middle']  \n",
    "                 ,'lip_to_chin'  :['mouth_lower_lip_bottom','contour_chin']  \n",
    "                 ,'lip_to_nose'  :['nose_tip','mouth_upper_lip_top']}\n",
    "    \n",
    "    # 사진 vector값들중 원하는 값들만 사용하기 위해 dict 형태로 변수 지정\n",
    "    \n",
    "    keypoint = {}\n",
    "    # \n",
    "    \n",
    "    ## json string to object\n",
    "    info = facial_info\n",
    "    if type(facial_info) == str:\n",
    "        info = json.loads(facial_info)\n",
    "    \n",
    "    facial_pos = info['result'][0]['landmark']\n",
    "    ## add center position\n",
    "    \n",
    "    facial_pos['eyebrow_center'] = pos_center( facial_pos['left_eyebrow_upper_middle'], facial_pos['right_eyebrow_upper_middle']) \n",
    "    # pos_center() 로 eyebrow 값의 중심값을 정해준다. \n",
    "    # 이 값을 언제 사용하지??\n",
    "    \n",
    "    \n",
    "    ## calculate key point\n",
    "    for (k,v) in cal_items.items(): ## iteritems() for python2.7\n",
    "        keypoint[k] = pos_distance(facial_pos[v[0]], facial_pos[v[1]])\n",
    "        # v변수에는 위에서 정해준 추출하고픈 \"변수\"들의 values가 저장되어 있다. 이를 전체 데이터 셋인 facial_pos에 전달해 거리를 계산해준다.\n",
    "        \n",
    "    return keypoint\n",
    "    # 총 9개의 key 들이 저장된 dict\n",
    "\n",
    "def normalize_dict(data, max_value):\n",
    "    for k in data.keys():\n",
    "        data[k] = round(data[k]/max_value,5)\n",
    "    return data\n",
    "\n",
    "def get_feature_vector( keypoint ):\n",
    "    ff = extract_face_feature(keypoint)\n",
    "    ff = normalize_dict(ff, ff['face_height'])\n",
    "    # Feature Scaling을 해준다. 왜냐하면 사진을 찍은 거리 등에 따라 특징 값들이 변할 수 있기 때문이다.\n",
    "    return ff"
   ]
  },
  {
   "cell_type": "code",
   "execution_count": 54,
   "metadata": {},
   "outputs": [],
   "source": [
    "landmark_dict = {}\n",
    "for name, img_url in image_data.items(): \n",
    "    try:\n",
    "        keypoint = extract_face_landmark(img_url)\n",
    "        landmark_dict[name] = get_feature_vector(keypoint)\n",
    "        # get_feature_vector(keypoint)\n",
    "        # 결과적으로 {'최규민:1' : {'face_width' : 1.0093428, 'face_height' : ..... , } 이 저장된다.\n",
    "        \n",
    "    except:\n",
    "        print ('extract fail : {0}'.format(name))"
   ]
  },
  {
   "cell_type": "code",
   "execution_count": 55,
   "metadata": {
    "collapsed": true
   },
   "outputs": [],
   "source": [
    "import pandas as pd\n",
    "## dict to dataframe\n",
    "landmark_ds = pd.DataFrame.from_dict( landmark_dict, orient='index')\n",
    "# dict를 dataFrame으로 변경해준다. "
   ]
  },
  {
   "cell_type": "code",
   "execution_count": 56,
   "metadata": {},
   "outputs": [],
   "source": [
    "landmark_ds.to_csv('/home/moon/j_temp/landmark.csv')"
   ]
  },
  {
   "cell_type": "markdown",
   "metadata": {},
   "source": [
    "## 나의 사진 정보에서 마찬가지로 값 추출\n",
    "## 그리고 위에 저장된 데이터를 토대로 유사성 비교"
   ]
  },
  {
   "cell_type": "code",
   "execution_count": 15,
   "metadata": {
    "collapsed": true
   },
   "outputs": [],
   "source": [
    "image_my_data={'문경배':'https://scontent-hkg3-1.xx.fbcdn.net/v/t1.0-9/11220850_473169659474726_7366027652356705505_n.jpg?oh=eb0bd1035beba418b7a56684a4ac51f7&oe=595B7852'} "
   ]
  },
  {
   "cell_type": "code",
   "execution_count": 16,
   "metadata": {},
   "outputs": [
    {
     "name": "stdout",
     "output_type": "stream",
     "text": [
      "Finish my image vector exercise\n"
     ]
    }
   ],
   "source": [
    "landmark_mydict = {}\n",
    "for name, img_url in image_my_data.items():\n",
    "    try:\n",
    "        keypoint = extract_face_landmark(img_url)\n",
    "        landmark_mydict[name] = get_feature_vector(keypoint)\n",
    "        \n",
    "    except:\n",
    "        print ('extract fail :{0}'.format(name))\n",
    "    finally:\n",
    "        print(\"Finish my image vector exercise\")"
   ]
  },
  {
   "cell_type": "code",
   "execution_count": 17,
   "metadata": {},
   "outputs": [
    {
     "data": {
      "text/plain": [
       "{'eye_to_eye': 0.47252,\n",
       " 'eye_width': 0.65962,\n",
       " 'eyebrow_width': 0.06717,\n",
       " 'face_height': 1.0,\n",
       " 'face_width': 0.23778,\n",
       " 'lip_to_chin': 0.19312,\n",
       " 'lip_to_nose': 0.18563,\n",
       " 'mouth_width': 0.3454,\n",
       " 'nose_width': 0.28752}"
      ]
     },
     "execution_count": 17,
     "metadata": {},
     "output_type": "execute_result"
    }
   ],
   "source": [
    "landmark_mydict['문경배']"
   ]
  },
  {
   "cell_type": "code",
   "execution_count": 18,
   "metadata": {},
   "outputs": [
    {
     "data": {
      "text/plain": [
       "{'eye_to_eye': 0.31702,\n",
       " 'eye_width': 0.45107,\n",
       " 'eyebrow_width': 0.06413,\n",
       " 'face_height': 1.0,\n",
       " 'face_width': 0.17002,\n",
       " 'lip_to_chin': 0.25671,\n",
       " 'lip_to_nose': 0.20541,\n",
       " 'mouth_width': 0.22673,\n",
       " 'nose_width': 0.19088}"
      ]
     },
     "execution_count": 18,
     "metadata": {},
     "output_type": "execute_result"
    }
   ],
   "source": [
    "landmark_dict['김수현:1']"
   ]
  },
  {
   "cell_type": "code",
   "execution_count": 19,
   "metadata": {
    "scrolled": true
   },
   "outputs": [
    {
     "data": {
      "text/plain": [
       "0.31643452197887634"
      ]
     },
     "execution_count": 19,
     "metadata": {},
     "output_type": "execute_result"
    }
   ],
   "source": [
    "from scipy.spatial import distance\n",
    "distance.euclidean(list(landmark_mydict['문경배'].values()),list(landmark_dict['김수현:1'].values()))"
   ]
  },
  {
   "cell_type": "code",
   "execution_count": 49,
   "metadata": {
    "collapsed": true
   },
   "outputs": [],
   "source": [
    "def apply_relation_value(names, function):\n",
    "    for name in names:\n",
    "        values = list(landmark_dict[name].values())\n",
    "        print(str(function)[10:19], str(name), \"유사정도 :\",+function(values, myvalue))"
   ]
  },
  {
   "cell_type": "code",
   "execution_count": 50,
   "metadata": {},
   "outputs": [
    {
     "name": "stdout",
     "output_type": "stream",
     "text": [
      "euclidean 원빈:1 유사정도 : 0.09878525699718557\n",
      "euclidean 김수현:2 유사정도 : 0.4017913081439169\n",
      "euclidean 김수현:1 유사정도 : 0.31643452197887634\n",
      "euclidean 원빈:2 유사정도 : 0.06992499553092585\n",
      "euclidean 원빈:3 유사정도 : 0.3334656057226892\n"
     ]
    }
   ],
   "source": [
    "apply_relation_value(names, distance.euclidean)"
   ]
  },
  {
   "cell_type": "code",
   "execution_count": 51,
   "metadata": {},
   "outputs": [
    {
     "name": "stdout",
     "output_type": "stream",
     "text": [
      "cosine at 원빈:1 유사정도 : 0.00190821407376\n",
      "cosine at 김수현:2 유사정도 : 0.0333146829569\n",
      "cosine at 김수현:1 유사정도 : 0.0200140016433\n",
      "cosine at 원빈:2 유사정도 : 0.00121929372135\n",
      "cosine at 원빈:3 유사정도 : 0.0227734165206\n"
     ]
    }
   ],
   "source": [
    "apply_relation_value(names, distance.cosine)"
   ]
  },
  {
   "cell_type": "code",
   "execution_count": 52,
   "metadata": {},
   "outputs": [
    {
     "name": "stdout",
     "output_type": "stream",
     "text": [
      "correlati 원빈:1 유사정도 : 0.00563634581399\n",
      "correlati 김수현:2 유사정도 : 0.0716198801264\n",
      "correlati 김수현:1 유사정도 : 0.0491790695163\n",
      "correlati 원빈:2 유사정도 : 0.00342136702434\n",
      "correlati 원빈:3 유사정도 : 0.0577014390015\n"
     ]
    }
   ],
   "source": [
    "apply_relation_value(names, distance.correlation)"
   ]
  },
  {
   "cell_type": "code",
   "execution_count": null,
   "metadata": {
    "collapsed": true
   },
   "outputs": [],
   "source": []
  }
 ],
 "metadata": {
  "anaconda-cloud": {},
  "kernelspec": {
   "display_name": "Python 3",
   "language": "python",
   "name": "python3"
  },
  "language_info": {
   "codemirror_mode": {
    "name": "ipython",
    "version": 3
   },
   "file_extension": ".py",
   "mimetype": "text/x-python",
   "name": "python",
   "nbconvert_exporter": "python",
   "pygments_lexer": "ipython3",
   "version": "3.6.1"
  }
 },
 "nbformat": 4,
 "nbformat_minor": 1
}
