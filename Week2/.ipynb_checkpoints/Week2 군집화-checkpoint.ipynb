{
 "cells": [
  {
   "cell_type": "code",
   "execution_count": 1,
   "metadata": {},
   "outputs": [],
   "source": [
    "import pandas as pd\n",
    "\n",
    "landmark_ds = pd.DataFrame.from_csv('/home/moon/j_temp/landmark.csv')"
   ]
  },
  {
   "cell_type": "code",
   "execution_count": 2,
   "metadata": {},
   "outputs": [
    {
     "data": {
      "text/html": [
       "<div>\n",
       "<table border=\"1\" class=\"dataframe\">\n",
       "  <thead>\n",
       "    <tr style=\"text-align: right;\">\n",
       "      <th></th>\n",
       "      <th>nose_width</th>\n",
       "      <th>lip_to_chin</th>\n",
       "      <th>eyebrow_width</th>\n",
       "      <th>eye_width</th>\n",
       "      <th>mouth_width</th>\n",
       "      <th>face_width</th>\n",
       "      <th>eye_to_eye</th>\n",
       "      <th>lip_to_nose</th>\n",
       "      <th>face_height</th>\n",
       "    </tr>\n",
       "  </thead>\n",
       "  <tbody>\n",
       "    <tr>\n",
       "      <th>김수현:1</th>\n",
       "      <td>0.19088</td>\n",
       "      <td>0.25671</td>\n",
       "      <td>0.06413</td>\n",
       "      <td>0.45107</td>\n",
       "      <td>0.22673</td>\n",
       "      <td>0.17002</td>\n",
       "      <td>0.31702</td>\n",
       "      <td>0.20541</td>\n",
       "      <td>1.0</td>\n",
       "    </tr>\n",
       "    <tr>\n",
       "      <th>김수현:2</th>\n",
       "      <td>0.16854</td>\n",
       "      <td>0.24290</td>\n",
       "      <td>0.04680</td>\n",
       "      <td>0.38241</td>\n",
       "      <td>0.20191</td>\n",
       "      <td>0.15363</td>\n",
       "      <td>0.27322</td>\n",
       "      <td>0.19790</td>\n",
       "      <td>1.0</td>\n",
       "    </tr>\n",
       "    <tr>\n",
       "      <th>원빈:1</th>\n",
       "      <td>0.24684</td>\n",
       "      <td>0.22216</td>\n",
       "      <td>0.06405</td>\n",
       "      <td>0.59976</td>\n",
       "      <td>0.32625</td>\n",
       "      <td>0.25496</td>\n",
       "      <td>0.41797</td>\n",
       "      <td>0.19109</td>\n",
       "      <td>1.0</td>\n",
       "    </tr>\n",
       "    <tr>\n",
       "      <th>원빈:2</th>\n",
       "      <td>0.28054</td>\n",
       "      <td>0.23827</td>\n",
       "      <td>0.05839</td>\n",
       "      <td>0.63212</td>\n",
       "      <td>0.36972</td>\n",
       "      <td>0.26068</td>\n",
       "      <td>0.44405</td>\n",
       "      <td>0.17911</td>\n",
       "      <td>1.0</td>\n",
       "    </tr>\n",
       "    <tr>\n",
       "      <th>원빈:3</th>\n",
       "      <td>0.17569</td>\n",
       "      <td>0.25919</td>\n",
       "      <td>0.06314</td>\n",
       "      <td>0.42677</td>\n",
       "      <td>0.25036</td>\n",
       "      <td>0.18422</td>\n",
       "      <td>0.30699</td>\n",
       "      <td>0.21376</td>\n",
       "      <td>1.0</td>\n",
       "    </tr>\n",
       "  </tbody>\n",
       "</table>\n",
       "</div>"
      ],
      "text/plain": [
       "       nose_width  lip_to_chin  eyebrow_width  eye_width  mouth_width  \\\n",
       "김수현:1     0.19088      0.25671        0.06413    0.45107      0.22673   \n",
       "김수현:2     0.16854      0.24290        0.04680    0.38241      0.20191   \n",
       "원빈:1      0.24684      0.22216        0.06405    0.59976      0.32625   \n",
       "원빈:2      0.28054      0.23827        0.05839    0.63212      0.36972   \n",
       "원빈:3      0.17569      0.25919        0.06314    0.42677      0.25036   \n",
       "\n",
       "       face_width  eye_to_eye  lip_to_nose  face_height  \n",
       "김수현:1     0.17002     0.31702      0.20541          1.0  \n",
       "김수현:2     0.15363     0.27322      0.19790          1.0  \n",
       "원빈:1      0.25496     0.41797      0.19109          1.0  \n",
       "원빈:2      0.26068     0.44405      0.17911          1.0  \n",
       "원빈:3      0.18422     0.30699      0.21376          1.0  "
      ]
     },
     "execution_count": 2,
     "metadata": {},
     "output_type": "execute_result"
    }
   ],
   "source": [
    "landmark_ds.head()"
   ]
  },
  {
   "cell_type": "code",
   "execution_count": 13,
   "metadata": {},
   "outputs": [],
   "source": [
    "from scipy.spatial import distance\n",
    "\n",
    "def most_similar(name, ds, distance_func=distance.euclidean):\n",
    "    v1 = ds.ix[name]\n",
    "    ret=[]\n",
    "    for name, row in ds.iterrows(): # iterrows()는 dataframe에서 rowname, colname+ value 로 iterrow를 바꿔준다.\n",
    "        ret.append( [name, round(distance_func(v1,row),5)] )\n",
    "    return pd.DataFrame(ret, columns =['name', 'distance']).sort_values(['distance'], ascending=True)"
   ]
  },
  {
   "cell_type": "code",
   "execution_count": 14,
   "metadata": {},
   "outputs": [
    {
     "data": {
      "text/html": [
       "<div>\n",
       "<table border=\"1\" class=\"dataframe\">\n",
       "  <thead>\n",
       "    <tr style=\"text-align: right;\">\n",
       "      <th></th>\n",
       "      <th>name</th>\n",
       "      <th>distance</th>\n",
       "    </tr>\n",
       "  </thead>\n",
       "  <tbody>\n",
       "    <tr>\n",
       "      <th>2</th>\n",
       "      <td>원빈:1</td>\n",
       "      <td>0.00000</td>\n",
       "    </tr>\n",
       "    <tr>\n",
       "      <th>3</th>\n",
       "      <td>원빈:2</td>\n",
       "      <td>0.00091</td>\n",
       "    </tr>\n",
       "    <tr>\n",
       "      <th>0</th>\n",
       "      <td>김수현:1</td>\n",
       "      <td>0.01139</td>\n",
       "    </tr>\n",
       "    <tr>\n",
       "      <th>4</th>\n",
       "      <td>원빈:3</td>\n",
       "      <td>0.01285</td>\n",
       "    </tr>\n",
       "    <tr>\n",
       "      <th>1</th>\n",
       "      <td>김수현:2</td>\n",
       "      <td>0.02182</td>\n",
       "    </tr>\n",
       "  </tbody>\n",
       "</table>\n",
       "</div>"
      ],
      "text/plain": [
       "    name  distance\n",
       "2   원빈:1   0.00000\n",
       "3   원빈:2   0.00091\n",
       "0  김수현:1   0.01139\n",
       "4   원빈:3   0.01285\n",
       "1  김수현:2   0.02182"
      ]
     },
     "execution_count": 14,
     "metadata": {},
     "output_type": "execute_result"
    }
   ],
   "source": [
    "most_similar('원빈:1', landmark_ds, distance.cosine)"
   ]
  },
  {
   "cell_type": "code",
   "execution_count": null,
   "metadata": {},
   "outputs": [],
   "source": [
    "for a, b in landmark_ds.iterrows():\n",
    "    print(a,\"\\n\", b)\n",
    "# iterrows() ??"
   ]
  },
  {
   "cell_type": "code",
   "execution_count": 16,
   "metadata": {},
   "outputs": [
    {
     "name": "stdout",
     "output_type": "stream",
     "text": [
      "euclidean  일때 ***********\n",
      "     name  distance\n",
      "2   원빈:1   0.00000\n",
      "3   원빈:2   0.07225\n",
      "0  김수현:1   0.23227\n",
      "4   원빈:3   0.24485\n",
      "1  김수현:2   0.31753\n",
      "cosine  일때 ***********\n",
      "     name  distance\n",
      "2   원빈:1   0.00000\n",
      "3   원빈:2   0.00091\n",
      "0  김수현:1   0.01139\n",
      "4   원빈:3   0.01285\n",
      "1  김수현:2   0.02182\n",
      "correlation  일때 ***********\n",
      "     name  distance\n",
      "2   원빈:1   0.00000\n",
      "3   원빈:2   0.00237\n",
      "0  김수현:1   0.02595\n",
      "4   원빈:3   0.03074\n",
      "1  김수현:2   0.04231\n"
     ]
    }
   ],
   "source": [
    "target ='원빈:1'\n",
    "\n",
    "for func in [distance.euclidean, distance.cosine, distance.correlation]:\n",
    "    print(func.__name__, \" 일때 ***********\\n\", most_similar(target,landmark_ds, func) )\n",
    "# func.__name__ 를 하면 함수내의 정의된 name이 호출된다."
   ]
  },
  {
   "cell_type": "code",
   "execution_count": 17,
   "metadata": {},
   "outputs": [
    {
     "data": {
      "text/plain": [
       "'euclidean'"
      ]
     },
     "execution_count": 17,
     "metadata": {},
     "output_type": "execute_result"
    }
   ],
   "source": [
    "distance.euclidean.__name__"
   ]
  },
  {
   "cell_type": "markdown",
   "metadata": {},
   "source": [
    "### 유저 유사도 매트릭스"
   ]
  },
  {
   "cell_type": "code",
   "execution_count": 33,
   "metadata": {},
   "outputs": [
    {
     "data": {
      "text/html": [
       "<div>\n",
       "<table border=\"1\" class=\"dataframe\">\n",
       "  <thead>\n",
       "    <tr style=\"text-align: right;\">\n",
       "      <th></th>\n",
       "      <th>nose_width</th>\n",
       "      <th>lip_to_chin</th>\n",
       "      <th>eyebrow_width</th>\n",
       "      <th>eye_width</th>\n",
       "      <th>mouth_width</th>\n",
       "      <th>face_width</th>\n",
       "      <th>eye_to_eye</th>\n",
       "      <th>lip_to_nose</th>\n",
       "      <th>face_height</th>\n",
       "    </tr>\n",
       "  </thead>\n",
       "  <tbody>\n",
       "    <tr>\n",
       "      <th>김수현:1</th>\n",
       "      <td>0.19088</td>\n",
       "      <td>0.25671</td>\n",
       "      <td>0.06413</td>\n",
       "      <td>0.45107</td>\n",
       "      <td>0.22673</td>\n",
       "      <td>0.17002</td>\n",
       "      <td>0.31702</td>\n",
       "      <td>0.20541</td>\n",
       "      <td>1.0</td>\n",
       "    </tr>\n",
       "    <tr>\n",
       "      <th>김수현:2</th>\n",
       "      <td>0.16854</td>\n",
       "      <td>0.24290</td>\n",
       "      <td>0.04680</td>\n",
       "      <td>0.38241</td>\n",
       "      <td>0.20191</td>\n",
       "      <td>0.15363</td>\n",
       "      <td>0.27322</td>\n",
       "      <td>0.19790</td>\n",
       "      <td>1.0</td>\n",
       "    </tr>\n",
       "    <tr>\n",
       "      <th>원빈:1</th>\n",
       "      <td>0.24684</td>\n",
       "      <td>0.22216</td>\n",
       "      <td>0.06405</td>\n",
       "      <td>0.59976</td>\n",
       "      <td>0.32625</td>\n",
       "      <td>0.25496</td>\n",
       "      <td>0.41797</td>\n",
       "      <td>0.19109</td>\n",
       "      <td>1.0</td>\n",
       "    </tr>\n",
       "    <tr>\n",
       "      <th>원빈:2</th>\n",
       "      <td>0.28054</td>\n",
       "      <td>0.23827</td>\n",
       "      <td>0.05839</td>\n",
       "      <td>0.63212</td>\n",
       "      <td>0.36972</td>\n",
       "      <td>0.26068</td>\n",
       "      <td>0.44405</td>\n",
       "      <td>0.17911</td>\n",
       "      <td>1.0</td>\n",
       "    </tr>\n",
       "    <tr>\n",
       "      <th>원빈:3</th>\n",
       "      <td>0.17569</td>\n",
       "      <td>0.25919</td>\n",
       "      <td>0.06314</td>\n",
       "      <td>0.42677</td>\n",
       "      <td>0.25036</td>\n",
       "      <td>0.18422</td>\n",
       "      <td>0.30699</td>\n",
       "      <td>0.21376</td>\n",
       "      <td>1.0</td>\n",
       "    </tr>\n",
       "  </tbody>\n",
       "</table>\n",
       "</div>"
      ],
      "text/plain": [
       "       nose_width  lip_to_chin  eyebrow_width  eye_width  mouth_width  \\\n",
       "김수현:1     0.19088      0.25671        0.06413    0.45107      0.22673   \n",
       "김수현:2     0.16854      0.24290        0.04680    0.38241      0.20191   \n",
       "원빈:1      0.24684      0.22216        0.06405    0.59976      0.32625   \n",
       "원빈:2      0.28054      0.23827        0.05839    0.63212      0.36972   \n",
       "원빈:3      0.17569      0.25919        0.06314    0.42677      0.25036   \n",
       "\n",
       "       face_width  eye_to_eye  lip_to_nose  face_height  \n",
       "김수현:1     0.17002     0.31702      0.20541          1.0  \n",
       "김수현:2     0.15363     0.27322      0.19790          1.0  \n",
       "원빈:1      0.25496     0.41797      0.19109          1.0  \n",
       "원빈:2      0.26068     0.44405      0.17911          1.0  \n",
       "원빈:3      0.18422     0.30699      0.21376          1.0  "
      ]
     },
     "execution_count": 33,
     "metadata": {},
     "output_type": "execute_result"
    }
   ],
   "source": [
    "landmark_ds"
   ]
  },
  {
   "cell_type": "code",
   "execution_count": 51,
   "metadata": {},
   "outputs": [],
   "source": [
    "def make_sim_matrix(distance_func=distance.euclidean):\n",
    "    users = landmark_ds.index\n",
    "\n",
    "    sim_matrix=[]\n",
    "    for u1 in users:\n",
    "        similarities = []\n",
    "        u1_vec = landmark_ds.ix[u1].values.tolist()\n",
    "        # landmark_ds 는 판다스로 형성한 dataFrame이다. 그리고 landmark_ds.ix는 DataFrame의 특정 값을 Series로 반환해준다,\n",
    "        for u2 in users:\n",
    "            u2_vec = landmark_ds.ix[u2].values.tolist()\n",
    "            similarities.append(round(distance_func(u1_vec, u2_vec),5))\n",
    "            # 이중 for 문을 통해 각 row에 대해 모든 column의 index들을 비교한다.\n",
    "        sim_matrix.append(similarities)\n",
    "        sim_matrix = pd.DataFrame(sim_matirx, index=users, columns=users)\n",
    "    return sim_matrix"
   ]
  },
  {
   "cell_type": "code",
   "execution_count": 52,
   "metadata": {},
   "outputs": [
    {
     "data": {
      "text/html": [
       "<div>\n",
       "<table border=\"1\" class=\"dataframe\">\n",
       "  <thead>\n",
       "    <tr style=\"text-align: right;\">\n",
       "      <th></th>\n",
       "      <th>김수현:1</th>\n",
       "      <th>김수현:2</th>\n",
       "      <th>원빈:1</th>\n",
       "      <th>원빈:2</th>\n",
       "      <th>원빈:3</th>\n",
       "    </tr>\n",
       "  </thead>\n",
       "  <tbody>\n",
       "    <tr>\n",
       "      <th>김수현:1</th>\n",
       "      <td>0.00000</td>\n",
       "      <td>0.00273</td>\n",
       "      <td>0.02595</td>\n",
       "      <td>0.03908</td>\n",
       "      <td>0.00141</td>\n",
       "    </tr>\n",
       "    <tr>\n",
       "      <th>김수현:2</th>\n",
       "      <td>0.00273</td>\n",
       "      <td>-0.00000</td>\n",
       "      <td>0.04231</td>\n",
       "      <td>0.05840</td>\n",
       "      <td>0.00159</td>\n",
       "    </tr>\n",
       "    <tr>\n",
       "      <th>원빈:1</th>\n",
       "      <td>0.02595</td>\n",
       "      <td>0.04231</td>\n",
       "      <td>0.00000</td>\n",
       "      <td>0.00237</td>\n",
       "      <td>0.03074</td>\n",
       "    </tr>\n",
       "    <tr>\n",
       "      <th>원빈:2</th>\n",
       "      <td>0.03908</td>\n",
       "      <td>0.05840</td>\n",
       "      <td>0.00237</td>\n",
       "      <td>0.00000</td>\n",
       "      <td>0.04465</td>\n",
       "    </tr>\n",
       "    <tr>\n",
       "      <th>원빈:3</th>\n",
       "      <td>0.00141</td>\n",
       "      <td>0.00159</td>\n",
       "      <td>0.03074</td>\n",
       "      <td>0.04465</td>\n",
       "      <td>0.00000</td>\n",
       "    </tr>\n",
       "  </tbody>\n",
       "</table>\n",
       "</div>"
      ],
      "text/plain": [
       "         김수현:1    김수현:2     원빈:1     원빈:2     원빈:3\n",
       "김수현:1  0.00000  0.00273  0.02595  0.03908  0.00141\n",
       "김수현:2  0.00273 -0.00000  0.04231  0.05840  0.00159\n",
       "원빈:1   0.02595  0.04231  0.00000  0.00237  0.03074\n",
       "원빈:2   0.03908  0.05840  0.00237  0.00000  0.04465\n",
       "원빈:3   0.00141  0.00159  0.03074  0.04465  0.00000"
      ]
     },
     "execution_count": 52,
     "metadata": {},
     "output_type": "execute_result"
    }
   ],
   "source": [
    "make_sim_matrix()"
   ]
  },
  {
   "cell_type": "markdown",
   "metadata": {},
   "source": [
    "### 가장 유사한 사용자 찾기"
   ]
  },
  {
   "cell_type": "code",
   "execution_count": 61,
   "metadata": {},
   "outputs": [
    {
     "name": "stdout",
     "output_type": "stream",
     "text": [
      "김수현:1 ['원빈:3']\n",
      "김수현:2 ['원빈:3']\n",
      "원빈:1 ['원빈:2']\n",
      "원빈:2 ['원빈:1']\n",
      "원빈:3 ['김수현:1']\n"
     ]
    },
    {
     "name": "stderr",
     "output_type": "stream",
     "text": [
      "/home/moon/anaconda3/lib/python3.5/site-packages/ipykernel/__main__.py:3: FutureWarning: sort is deprecated, use sort_values(inplace=True) for INPLACE sorting\n",
      "  app.launch_new_instance()\n"
     ]
    }
   ],
   "source": [
    "sim_matrix = make_sim_matrix(distance.euclidean)\n",
    "for a,b in sim_matrix.iterrows():\n",
    "    b.sort()\n",
    "    # sort 를 통해 각 Row 에 가장 큰 값을 첫번째 위치로 옮긴다.\n",
    "    \n",
    "    print(a, b[1:2].index.values)\n",
    "    # iterrows() 는 matrix의 iterator에서 자주 쓰이는 메소드이다.\n",
    "    # 첫번째로 각 row의 index를 반환해주고, 두번째로 각 row에 따른 모든 column value들을 반환해준다.\n"
   ]
  },
  {
   "cell_type": "code",
   "execution_count": null,
   "metadata": {
    "collapsed": true
   },
   "outputs": [],
   "source": []
  }
 ],
 "metadata": {
  "anaconda-cloud": {},
  "kernelspec": {
   "display_name": "Python 3",
   "language": "python",
   "name": "python3"
  },
  "language_info": {
   "codemirror_mode": {
    "name": "ipython",
    "version": 3
   },
   "file_extension": ".py",
   "mimetype": "text/x-python",
   "name": "python",
   "nbconvert_exporter": "python",
   "pygments_lexer": "ipython3",
   "version": "3.6.1"
  }
 },
 "nbformat": 4,
 "nbformat_minor": 1
}
